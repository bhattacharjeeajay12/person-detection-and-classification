{
 "cells": [
  {
   "cell_type": "code",
   "execution_count": 1,
   "id": "eb7c9ed4-5fa0-48f7-8953-38465be0f6ed",
   "metadata": {},
   "outputs": [],
   "source": [
    "from flask import Flask, render_template, request, redirect\n",
    "from object_detector import get_object_classification\n",
    "from object_classifier import get_image_class\n",
    "import os"
   ]
  },
  {
   "cell_type": "code",
   "execution_count": 6,
   "id": "4fd8efae-4e81-4b0b-8887-d3a5024d86cf",
   "metadata": {},
   "outputs": [
    {
     "name": "stdout",
     "output_type": "stream",
     "text": [
      "\n",
      "image 1/1 D:\\Study\\JOBS\\HAVELLS\\havels_local_project\\static\\uploads\\Zomato Delivery Boy_7.jpg: 384x640 6 persons, 46.0ms\n",
      "Speed: 3.3ms preprocess, 46.0ms inference, 3.5ms postprocess per image at shape (1, 3, 384, 640)\n",
      "Cropped image saved to: static\\outputs\\img_0.jpg\n",
      "Cropped image saved to: static\\outputs\\img_1.jpg\n",
      "Cropped image saved to: static\\outputs\\img_2.jpg\n",
      "Cropped image saved to: static\\outputs\\img_3.jpg\n",
      "Cropped image saved to: static\\outputs\\img_4.jpg\n",
      "Cropped image saved to: static\\outputs\\img_5.jpg\n"
     ]
    }
   ],
   "source": [
    "result = get_object_classification(r\"static\\uploads\\Zomato Delivery Boy_7.jpg\")"
   ]
  },
  {
   "cell_type": "code",
   "execution_count": 7,
   "id": "0482e948-f630-49ef-9f0e-076d471092ff",
   "metadata": {},
   "outputs": [
    {
     "data": {
      "text/plain": [
       "dict_keys(['person_count', 'object_list'])"
      ]
     },
     "execution_count": 7,
     "metadata": {},
     "output_type": "execute_result"
    }
   ],
   "source": [
    "result.keys()"
   ]
  },
  {
   "cell_type": "code",
   "execution_count": 8,
   "id": "3b7e4e98-e30e-4013-8be2-8ffe04b00b82",
   "metadata": {},
   "outputs": [
    {
     "data": {
      "text/plain": [
       "6"
      ]
     },
     "execution_count": 8,
     "metadata": {},
     "output_type": "execute_result"
    }
   ],
   "source": [
    "result[\"person_count\"]"
   ]
  },
  {
   "cell_type": "code",
   "execution_count": 9,
   "id": "18336555-231b-456f-a757-51342938af4c",
   "metadata": {},
   "outputs": [
    {
     "data": {
      "text/plain": [
       "['static\\\\outputs\\\\img_0.jpg',\n",
       " 'static\\\\outputs\\\\img_1.jpg',\n",
       " 'static\\\\outputs\\\\img_2.jpg',\n",
       " 'static\\\\outputs\\\\img_3.jpg',\n",
       " 'static\\\\outputs\\\\img_4.jpg',\n",
       " 'static\\\\outputs\\\\img_5.jpg']"
      ]
     },
     "execution_count": 9,
     "metadata": {},
     "output_type": "execute_result"
    }
   ],
   "source": [
    "result[\"object_list\"]"
   ]
  },
  {
   "cell_type": "code",
   "execution_count": null,
   "id": "4930b66c-8dec-4f14-a3c1-dabe67348636",
   "metadata": {},
   "outputs": [],
   "source": [
    "get_image_class(result[\"object_list\"])"
   ]
  },
  {
   "cell_type": "code",
   "execution_count": null,
   "id": "02bea252-ff5e-438c-8f76-bea5c22a7457",
   "metadata": {},
   "outputs": [],
   "source": []
  },
  {
   "cell_type": "code",
   "execution_count": 8,
   "id": "69792521-f044-4267-9dde-d820318746d5",
   "metadata": {},
   "outputs": [],
   "source": [
    "import torch\n",
    "import torch.nn as nn\n",
    "from torchvision import  transforms, models\n",
    "from PIL import Image\n",
    "\n",
    "with open('models\\class_labels.txt') as f:\n",
    "        labels = [line.strip() for line in f.readlines()]\n",
    "\n",
    "def load_model():\n",
    "    \n",
    "    # Create a custom MobileNetV2 model class\n",
    "    class CustomMobileNetV2(nn.Module):\n",
    "        def __init__(self, num_classes):\n",
    "            super(CustomMobileNetV2, self).__init__()\n",
    "            self.base_model = models.mobilenet_v2(pretrained=False)\n",
    "            self.base_model.classifier[1] = nn.Linear(self.base_model.classifier[1].in_features, num_classes)\n",
    "\n",
    "        def forward(self, x):\n",
    "            return self.base_model(x)\n",
    "    # Initialize the custom model\n",
    "    model = CustomMobileNetV2(num_classes=len(labels))\n",
    "    # Load the best model weights\n",
    "    model.load_state_dict(torch.load('models\\image_classifier.pth', map_location=torch.device('cpu')))  \n",
    "    return model\n",
    "\n",
    "def get_image_class(model, image_path):\n",
    "    # Load the saved class labels\n",
    "    # Set the model to evaluation mode\n",
    "    model.eval()\n",
    "\n",
    "    # Image preprocessing for inference\n",
    "    transform = transforms.Compose([\n",
    "        transforms.Resize(256),\n",
    "        transforms.CenterCrop(224),\n",
    "        transforms.ToTensor(),\n",
    "        transforms.Normalize(mean=[0.485, 0.456, 0.406], std=[0.229, 0.224, 0.225]),\n",
    "    ])\n",
    "\n",
    "    # Load and preprocess the input image (adjust the image path)\n",
    "    # image_path = 'tgoogle\\images\\cropped_images\\Dunzo Delivery Boy_107_dunzo_4.jpg'\n",
    "    image = Image.open(image_path)\n",
    "    input_tensor = transform(image)\n",
    "    input_batch = input_tensor.unsqueeze(0)  # Add a batch dimension\n",
    "\n",
    "    # Perform inference\n",
    "    with torch.no_grad():\n",
    "        output = model(input_batch)\n",
    "\n",
    "    # Get the predicted class index\n",
    "    probabilities = torch.nn.functional.softmax(output[0], dim=0)\n",
    "    predicted_class_index = torch.argmax(probabilities).item()\n",
    "\n",
    "    # Get the predicted class label\n",
    "    predicted_class_label = labels[predicted_class_index]\n",
    "    print(\"predicted_class_label : \", predicted_class_label)\n",
    "    return predicted_class_label\n",
    "\n",
    "def get_image_clasess(model, image_path_list):\n",
    "    class_list = []\n",
    "    for path in image_path_list:\n",
    "        class_ = get_image_class(path)\n",
    "        class_list.append(class_)\n",
    "    return class_list\n",
    "\n",
    "\n",
    "\n",
    "# image_path = r\"static\\uploads\\Uber eats Delivery Boy_17.jpg\"\n",
    "# print(get_image_class(image_path))\n",
    "\n"
   ]
  },
  {
   "cell_type": "code",
   "execution_count": 9,
   "id": "ed1fe8b4-9a8b-4dac-9773-fad95a420e23",
   "metadata": {},
   "outputs": [],
   "source": [
    "model = load_model()"
   ]
  },
  {
   "cell_type": "code",
   "execution_count": 10,
   "id": "6e43b294-256a-4a50-a789-c392b37f8bde",
   "metadata": {},
   "outputs": [
    {
     "ename": "NameError",
     "evalue": "name 'labels' is not defined",
     "output_type": "error",
     "traceback": [
      "\u001b[1;31m---------------------------------------------------------------------------\u001b[0m",
      "\u001b[1;31mNameError\u001b[0m                                 Traceback (most recent call last)",
      "Cell \u001b[1;32mIn [10], line 2\u001b[0m\n\u001b[0;32m      1\u001b[0m image_path \u001b[38;5;241m=\u001b[39m \u001b[38;5;124m\"\u001b[39m\u001b[38;5;124mstatic\u001b[39m\u001b[38;5;124m\\\u001b[39m\u001b[38;5;124moutputs\u001b[39m\u001b[38;5;124m\\\u001b[39m\u001b[38;5;124mimg_3.jpg\u001b[39m\u001b[38;5;124m\"\u001b[39m\n\u001b[1;32m----> 2\u001b[0m predicted_class_label \u001b[38;5;241m=\u001b[39m \u001b[43mget_image_class\u001b[49m\u001b[43m(\u001b[49m\u001b[43mmodel\u001b[49m\u001b[43m,\u001b[49m\u001b[43m \u001b[49m\u001b[43mimage_path\u001b[49m\u001b[43m)\u001b[49m\n",
      "Cell \u001b[1;32mIn [8], line 52\u001b[0m, in \u001b[0;36mget_image_class\u001b[1;34m(model, image_path)\u001b[0m\n\u001b[0;32m     49\u001b[0m predicted_class_index \u001b[38;5;241m=\u001b[39m torch\u001b[38;5;241m.\u001b[39margmax(probabilities)\u001b[38;5;241m.\u001b[39mitem()\n\u001b[0;32m     51\u001b[0m \u001b[38;5;66;03m# Get the predicted class label\u001b[39;00m\n\u001b[1;32m---> 52\u001b[0m predicted_class_label \u001b[38;5;241m=\u001b[39m \u001b[43mlabels\u001b[49m[predicted_class_index]\n\u001b[0;32m     53\u001b[0m \u001b[38;5;28mprint\u001b[39m(\u001b[38;5;124m\"\u001b[39m\u001b[38;5;124mpredicted_class_label : \u001b[39m\u001b[38;5;124m\"\u001b[39m, predicted_class_label)\n\u001b[0;32m     54\u001b[0m \u001b[38;5;28;01mreturn\u001b[39;00m predicted_class_label\n",
      "\u001b[1;31mNameError\u001b[0m: name 'labels' is not defined"
     ]
    }
   ],
   "source": [
    "image_path = \"static\\outputs\\img_3.jpg\"\n",
    "predicted_class_label = get_image_class(model, image_path)"
   ]
  },
  {
   "cell_type": "code",
   "execution_count": null,
   "id": "a62ba46d-4a0d-48b3-8e8b-00ea43bb4c28",
   "metadata": {},
   "outputs": [],
   "source": []
  }
 ],
 "metadata": {
  "kernelspec": {
   "display_name": "Python 3 (ipykernel)",
   "language": "python",
   "name": "python3"
  },
  "language_info": {
   "codemirror_mode": {
    "name": "ipython",
    "version": 3
   },
   "file_extension": ".py",
   "mimetype": "text/x-python",
   "name": "python",
   "nbconvert_exporter": "python",
   "pygments_lexer": "ipython3",
   "version": "3.9.18"
  }
 },
 "nbformat": 4,
 "nbformat_minor": 5
}
